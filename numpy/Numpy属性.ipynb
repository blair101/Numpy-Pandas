{
 "cells": [
  {
   "cell_type": "markdown",
   "metadata": {
    "collapsed": true
   },
   "source": [
    "## <font color='#4cb07b'> Numpy 属性 </font>\n",
    "\n",
    "Numpy 提供数组支持，以及相应的高效处理函数\n",
    "\n",
    "这次我们会介绍几种 numpy 的属性:\n",
    "\n",
    "- `ndim`：维度\n",
    "- `shape`：行数和列数\n",
    "- `size`：元素个数\n",
    "\n",
    "使用numpy首先要导入模块\n",
    "\n",
    "```python\n",
    "import numpy as np\n",
    "```\n",
    "\n",
    "列表转化为矩阵：\n",
    "\n",
    "```python\n",
    "array = np.array([[1,2,3],[2,3,4]])  #列表转化为矩阵\n",
    "print(array)\n",
    "\"\"\"\n",
    "array([[1, 2, 3],\n",
    "       [2, 3, 4]])\n",
    "\"\"\"\n",
    "```"
   ]
  },
  {
   "cell_type": "code",
   "execution_count": 11,
   "metadata": {},
   "outputs": [],
   "source": [
    "import numpy as np"
   ]
  },
  {
   "cell_type": "code",
   "execution_count": 10,
   "metadata": {},
   "outputs": [
    {
     "name": "stdout",
     "output_type": "stream",
     "text": [
      "[[1 2 3]\n",
      " [2 3 4]]\n",
      "number of dim: 2\n",
      "shape: (2, 3)\n",
      "size: 6\n"
     ]
    }
   ],
   "source": [
    "array1 = np.array(\n",
    "    [\n",
    "        [1,2,3],\n",
    "        [2,3,4]\n",
    "    ]\n",
    ")\n",
    "print(array1)\n",
    "print('number of dim:', array1.ndim)\n",
    "print('shape:', array1.shape)\n",
    "print('size:', array1.size)"
   ]
  },
  {
   "cell_type": "markdown",
   "metadata": {},
   "source": [
    "## <font color='#4cb07b'> Numpy 的创建 array </font>\n",
    "\n",
    "### <font color='#4cb07b'> 关键字 </font>\n",
    "\n",
    "- `array`：创建数组\n",
    "- `dtype`：指定数据类型\n",
    "- `zeros`：创建数据全为0\n",
    "- `ones`：创建数据全为1\n",
    "- `empty`：创建数据接近0\n",
    "- `arrange`：按指定范围创建数据\n",
    "- `linspace`：创建线段\n",
    "\n",
    "> 与 List 区别之一 : 没有逗号分隔"
   ]
  },
  {
   "cell_type": "code",
   "execution_count": 13,
   "metadata": {},
   "outputs": [
    {
     "name": "stdout",
     "output_type": "stream",
     "text": [
      "[ 2 23  4]\n",
      "int64\n"
     ]
    }
   ],
   "source": [
    "a = np.array([2,23,4])\n",
    "print(a)\n",
    "# [ 2 23  4]"
   ]
  },
  {
   "cell_type": "markdown",
   "metadata": {},
   "source": [
    "### <font color='#4cb07b'> 指定数据 dtype </font>"
   ]
  },
  {
   "cell_type": "code",
   "execution_count": 19,
   "metadata": {},
   "outputs": [
    {
     "name": "stdout",
     "output_type": "stream",
     "text": [
      "int64\n",
      "int32\n",
      "[  2.   23.1   4. ]\n",
      "float64\n",
      "float32\n"
     ]
    }
   ],
   "source": [
    "a = np.array([2,23,4], dtype=np.int) # 默认 int 为 int64\n",
    "print(a.dtype) \n",
    "#int64\n",
    "\n",
    "a = np.array([2,23,4],dtype=np.int32)\n",
    "print(a.dtype)\n",
    "# int32\n",
    "\n",
    "a = np.array([2,23.1,4.0], dtype=np.float) # 默认 float 为 float64\n",
    "print(a)\n",
    "print(a.dtype)\n",
    "# float64\n",
    "\n",
    "a = np.array([2,23,4],dtype=np.float32)\n",
    "print(a.dtype)\n",
    "# float32"
   ]
  },
  {
   "cell_type": "markdown",
   "metadata": {},
   "source": [
    "### <font color='#4cb07b'>创建特定数据</font>"
   ]
  },
  {
   "cell_type": "code",
   "execution_count": 22,
   "metadata": {},
   "outputs": [
    {
     "name": "stdout",
     "output_type": "stream",
     "text": [
      "[[ 2 23  4]\n",
      " [ 2 23  4]]\n"
     ]
    },
    {
     "data": {
      "text/plain": [
       "'\\n[[ 2 23  4]\\n [ 2 32  4]]\\n'"
      ]
     },
     "execution_count": 22,
     "metadata": {},
     "output_type": "execute_result"
    }
   ],
   "source": [
    "a = np.array(\n",
    "    [\n",
    "        [2,23,4],\n",
    "        [2,23,4]\n",
    "    ]\n",
    ")  # 2d 矩阵 2行3列\n",
    "print(a)\n",
    "\n",
    "\"\"\"\n",
    "[[ 2 23  4]\n",
    " [ 2 32  4]]\n",
    "\"\"\""
   ]
  },
  {
   "cell_type": "markdown",
   "metadata": {},
   "source": [
    "创建全零数组"
   ]
  },
  {
   "cell_type": "code",
   "execution_count": 25,
   "metadata": {},
   "outputs": [
    {
     "name": "stdout",
     "output_type": "stream",
     "text": [
      "[[ 0.  0.  0.  0.]\n",
      " [ 0.  0.  0.  0.]\n",
      " [ 0.  0.  0.  0.]]\n"
     ]
    }
   ],
   "source": [
    "# 创建全零数组\n",
    "a = np.zeros((3,4))  # 数据全为0，3行4列\n",
    "\"\"\"\n",
    "array([[ 0.,  0.,  0.,  0.],\n",
    "       [ 0.,  0.,  0.,  0.],\n",
    "       [ 0.,  0.,  0.,  0.]])\n",
    "\"\"\"\n",
    "print(a)"
   ]
  },
  {
   "cell_type": "markdown",
   "metadata": {},
   "source": [
    "创建全一数组, 同时也能指定这些特定数据的 `dtype`:"
   ]
  },
  {
   "cell_type": "code",
   "execution_count": 26,
   "metadata": {},
   "outputs": [
    {
     "name": "stdout",
     "output_type": "stream",
     "text": [
      "[[1 1 1 1]\n",
      " [1 1 1 1]\n",
      " [1 1 1 1]]\n"
     ]
    }
   ],
   "source": [
    "a = np.ones((3,4),dtype = np.int)   # 数据为1，3行4列\n",
    "\"\"\"\n",
    "array([[1, 1, 1, 1],\n",
    "       [1, 1, 1, 1],\n",
    "       [1, 1, 1, 1]])\n",
    "\"\"\"\n",
    "print(a)"
   ]
  },
  {
   "cell_type": "markdown",
   "metadata": {},
   "source": [
    "创建全空数组"
   ]
  },
  {
   "cell_type": "code",
   "execution_count": 30,
   "metadata": {},
   "outputs": [
    {
     "data": {
      "text/plain": [
       "array([[  9.88131292e-324,   1.13635099e-322,   1.97626258e-323],\n",
       "       [  9.88131292e-324,   1.13635099e-322,   1.97626258e-323]])"
      ]
     },
     "execution_count": 30,
     "metadata": {},
     "output_type": "execute_result"
    }
   ],
   "source": [
    "np.empty( (2,3) ) # 这个方法最大的好处就是速度快，因为少了初始化空间的操作"
   ]
  },
  {
   "cell_type": "markdown",
   "metadata": {
    "collapsed": true
   },
   "source": [
    "用 `arange` 创建连续数组:"
   ]
  },
  {
   "cell_type": "code",
   "execution_count": 35,
   "metadata": {},
   "outputs": [
    {
     "name": "stdout",
     "output_type": "stream",
     "text": [
      "[10 12 14 16 18]\n"
     ]
    },
    {
     "data": {
      "text/plain": [
       "array([ 0,  1,  2,  3,  4,  5,  6,  7,  8,  9, 10, 11])"
      ]
     },
     "execution_count": 35,
     "metadata": {},
     "output_type": "execute_result"
    }
   ],
   "source": [
    "a = np.arange(10,20,2) # 10-19 的数据，2步长\n",
    "\"\"\"\n",
    "array([10, 12, 14, 16, 18])\n",
    "\"\"\"\n",
    "print(a)\n",
    "\n",
    "b = np.arange(12)\n",
    "b"
   ]
  },
  {
   "cell_type": "markdown",
   "metadata": {
    "collapsed": true
   },
   "source": [
    "使用 `reshape` 改变数据的形状"
   ]
  },
  {
   "cell_type": "code",
   "execution_count": 34,
   "metadata": {},
   "outputs": [
    {
     "data": {
      "text/plain": [
       "array([[ 0,  1,  2,  3],\n",
       "       [ 4,  5,  6,  7],\n",
       "       [ 8,  9, 10, 11]])"
      ]
     },
     "execution_count": 34,
     "metadata": {},
     "output_type": "execute_result"
    }
   ],
   "source": [
    "a = np.arange(12).reshape((3,4))    # 3行4列，0到11\n",
    "\"\"\"\n",
    "array([[ 0,  1,  2,  3],\n",
    "       [ 4,  5,  6,  7],\n",
    "       [ 8,  9, 10, 11]])\n",
    "\"\"\"\n",
    "a"
   ]
  },
  {
   "cell_type": "markdown",
   "metadata": {},
   "source": [
    "用 `linspace` 创建线段型数据:"
   ]
  },
  {
   "cell_type": "code",
   "execution_count": 37,
   "metadata": {},
   "outputs": [
    {
     "data": {
      "text/plain": [
       "array([  1.        ,   1.47368421,   1.94736842,   2.42105263,\n",
       "         2.89473684,   3.36842105,   3.84210526,   4.31578947,\n",
       "         4.78947368,   5.26315789,   5.73684211,   6.21052632,\n",
       "         6.68421053,   7.15789474,   7.63157895,   8.10526316,\n",
       "         8.57894737,   9.05263158,   9.52631579,  10.        ])"
      ]
     },
     "execution_count": 37,
     "metadata": {},
     "output_type": "execute_result"
    }
   ],
   "source": [
    "a = np.linspace(1,10,20)    # 开始端1，结束端10，且分割成20个数据，生成线段\n",
    "\"\"\"\n",
    "array([  1.        ,   1.47368421,   1.94736842,   2.42105263,\n",
    "         2.89473684,   3.36842105,   3.84210526,   4.31578947,\n",
    "         4.78947368,   5.26315789,   5.73684211,   6.21052632,\n",
    "         6.68421053,   7.15789474,   7.63157895,   8.10526316,\n",
    "         8.57894737,   9.05263158,   9.52631579,  10.        ])\n",
    "\"\"\"\n",
    "a"
   ]
  },
  {
   "cell_type": "markdown",
   "metadata": {},
   "source": [
    "同样也能进行 `reshape` 工作:"
   ]
  },
  {
   "cell_type": "code",
   "execution_count": null,
   "metadata": {},
   "outputs": [],
   "source": [
    "a = np.linspace(1,10,20).reshape((5,4)) # 更改shape\n",
    "\"\"\"\n",
    "array([[  1.        ,   1.47368421,   1.94736842,   2.42105263],\n",
    "       [  2.89473684,   3.36842105,   3.84210526,   4.31578947],\n",
    "       [  4.78947368,   5.26315789,   5.73684211,   6.21052632],\n",
    "       [  6.68421053,   7.15789474,   7.63157895,   8.10526316],\n",
    "       [  8.57894737,   9.05263158,   9.52631579,  10.        ]])\n",
    "\"\"\""
   ]
  }
 ],
 "metadata": {
  "kernelspec": {
   "display_name": "Python 3",
   "language": "python",
   "name": "python3"
  },
  "language_info": {
   "codemirror_mode": {
    "name": "ipython",
    "version": 3
   },
   "file_extension": ".py",
   "mimetype": "text/x-python",
   "name": "python",
   "nbconvert_exporter": "python",
   "pygments_lexer": "ipython3",
   "version": "3.6.3"
  }
 },
 "nbformat": 4,
 "nbformat_minor": 2
}
