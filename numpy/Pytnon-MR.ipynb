{
 "cells": [
  {
   "cell_type": "markdown",
   "metadata": {},
   "source": [
    "```bash\n",
    "cd `dirname $0`/.. && wk_dir=`pwd` && cd -\n",
    "source ${wk_dir}/util/env.sh\n",
    " \n",
    "module_name=`basename ${wk_dir}`\n",
    "job_name=`basename $0 .sh`\n",
    " \n",
    "if [ $# -ne 3 ] ; then\n",
    "  echo \"usage: $0 dt conf_dir platform_conf_dir\"\n",
    "  exit 255\n",
    "fi\n",
    "platform_conf_dir=\"$3\"\n",
    "source ${platform_conf_dir}/platform.conf\n",
    "###############################################################################\n",
    " \n",
    "echo \"date:\" ${d1}\n",
    "echo \"arg platform:\" ${platform}\n",
    " \n",
    "input_file=\"${hive_dir}/${table_user_attributes_json}/platform=${platform}/dt=${d1}\"\n",
    "output_file=\"${hive_dir}/tmp/tmp_redis_import/platform=${platform}/dt=${d1}\"\n",
    "reducer=\"reducer_import_redis.py\"\n",
    "reducer_depend=\"constant.py\"\n",
    "archive=\"/user/ad_dm/packages/simplejson.tar.gz#simplejson\"\n",
    "localpath=\"${wk_dir}/log/redis_log/$platform/$d1\"\n",
    "mkdir -p $localpath\n",
    " \n",
    "cmd=\"${HADOOP} jar ${hadoop_jar}\n",
    "     -D mapred.map.tasks=100\n",
    "     -D mapred.reduce.tasks=100\n",
    "     -D stream.map.input.ignoreKey=true\n",
    "     -inputformat com.hadoop.mapred.DeprecatedLzoTextInputFormat\n",
    "     -input ${input_file}\n",
    "     -output ${output_file}\n",
    "     -file ${reducer}\n",
    "     -file ${reducer_depend}\n",
    "     -mapper cat\n",
    "     -reducer ${reducer}\n",
    "     -cacheArchive ${archive}\"\n",
    "echo ${output_file}\n",
    "${HADOOP} fs -rmr ${output_file}\n",
    "echo $cmd\n",
    "$cmd\n",
    "```"
   ]
  },
  {
   "cell_type": "code",
   "execution_count": null,
   "metadata": {},
   "outputs": [],
   "source": []
  }
 ],
 "metadata": {
  "kernelspec": {
   "display_name": "Python 3",
   "language": "python",
   "name": "python3"
  },
  "language_info": {
   "codemirror_mode": {
    "name": "ipython",
    "version": 3
   },
   "file_extension": ".py",
   "mimetype": "text/x-python",
   "name": "python",
   "nbconvert_exporter": "python",
   "pygments_lexer": "ipython3",
   "version": "3.6.3"
  }
 },
 "nbformat": 4,
 "nbformat_minor": 2
}
