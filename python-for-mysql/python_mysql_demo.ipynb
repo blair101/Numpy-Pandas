{
 "cells": [
  {
   "cell_type": "code",
   "execution_count": 11,
   "metadata": {},
   "outputs": [],
   "source": [
    "# 导入MySQL驱动:\n",
    "import mysql.connector\n",
    "# 注意把password设为你的root口令:\n",
    "conn = mysql.connector.connect(user='chenlibin', password='your_passwd', host='192.190.0.***', database='clb_test', use_unicode=True)\n",
    "cursor = conn.cursor()\n"
   ]
  },
  {
   "cell_type": "code",
   "execution_count": 19,
   "metadata": {},
   "outputs": [
    {
     "data": {
      "text/plain": [
       "1"
      ]
     },
     "execution_count": 19,
     "metadata": {},
     "output_type": "execute_result"
    }
   ],
   "source": [
    "# 创建user表:\n",
    "#cursor.execute('create table clb_user (id varchar(20) primary key, name varchar(20))')\n",
    "\n",
    "# 插入一行记录，注意MySQL的占位符是%s:\n",
    "\n",
    "cursor.execute('insert into clb_user (id, name) values (%s, %s)', ['3', 'Michael3'])\n",
    "cursor.execute('insert into clb_user (id, name) values (%s, %s)', ['4', 'Michael4'])\n",
    "cursor.rowcount\n"
   ]
  },
  {
   "cell_type": "code",
   "execution_count": 21,
   "metadata": {},
   "outputs": [
    {
     "data": {
      "text/plain": [
       "[('2', 'Michael2')]"
      ]
     },
     "execution_count": 21,
     "metadata": {},
     "output_type": "execute_result"
    }
   ],
   "source": [
    "# 提交事务:\n",
    "conn.commit()\n",
    "cursor.close()\n",
    "\n",
    "# 运行查询:\n",
    "cursor = conn.cursor()\n",
    "cursor.execute('select * from clb_user where id = %s', ('2',))\n",
    "values = cursor.fetchall()\n",
    "values\n"
   ]
  },
  {
   "cell_type": "code",
   "execution_count": 22,
   "metadata": {},
   "outputs": [],
   "source": [
    "# 关闭Cursor和Connection:\n",
    "cursor.close()\n",
    "conn.close()"
   ]
  },
  {
   "cell_type": "code",
   "execution_count": null,
   "metadata": {},
   "outputs": [],
   "source": []
  }
 ],
 "metadata": {
  "kernelspec": {
   "display_name": "Python 3",
   "language": "python",
   "name": "python3"
  },
  "language_info": {
   "codemirror_mode": {
    "name": "ipython",
    "version": 3
   },
   "file_extension": ".py",
   "mimetype": "text/x-python",
   "name": "python",
   "nbconvert_exporter": "python",
   "pygments_lexer": "ipython3",
   "version": "3.6.3"
  }
 },
 "nbformat": 4,
 "nbformat_minor": 2
}
